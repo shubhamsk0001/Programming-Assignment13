{
 "cells": [
  {
   "cell_type": "code",
   "execution_count": null,
   "id": "766b43a9",
   "metadata": {},
   "outputs": [],
   "source": [
    "Question 1:\n",
    "Write a program that calculates and prints the value according to the given formula:\n",
    "Q = Square root of [(2 * C * D)/H]\n",
    "Following are the fixed values of C and H:\n",
    "C is 50. H is 30.\n",
    "D is the variable whose values should be input to your program in a comma-separated\n",
    "sequence.\n",
    "Example\n",
    "Let us assume the following comma separated input sequence is given to the program:\n",
    "100,150,180\n",
    "The output of the program should be:\n",
    "18,22,24"
   ]
  },
  {
   "cell_type": "code",
   "execution_count": 7,
   "id": "da9fb548",
   "metadata": {},
   "outputs": [
    {
     "name": "stdout",
     "output_type": "stream",
     "text": [
      "value to be entered in comma-separated value=100,150,180\n",
      "The output of the program should be=\n",
      "18,22,24\n"
     ]
    }
   ],
   "source": [
    "import math as m\n",
    "C,H=50,30\n",
    "N=input(\"value to be entered in comma-separated value=\")\n",
    "N=N.split(',')\n",
    "result=[]\n",
    "print(\"The output of the program should be=\")\n",
    "for D in N:\n",
    "    Q=round(m.sqrt(2 * C * int(D)/H))\n",
    "    result.append(str(Q))\n",
    "print(','.join(result))"
   ]
  },
  {
   "cell_type": "code",
   "execution_count": null,
   "id": "571047e5",
   "metadata": {},
   "outputs": [],
   "source": [
    "Question 2:\n",
    "Write a program which takes 2 digits, X,Y as input and generates a 2-dimensional array. The\n",
    "element value in the i-th row and j-th column of the array should be i*j.\n",
    "Note: i=0,1.., X-1; j=0,1,¡Y-1.\n",
    "Example\n",
    "Suppose the following inputs are given to the program:\n",
    "3,5\n",
    "Then, the output of the program should be:\n",
    "[[0, 0, 0, 0, 0], [0, 1, 2, 3, 4], [0, 2, 4, 6, 8]]"
   ]
  },
  {
   "cell_type": "code",
   "execution_count": 10,
   "id": "69cf226e",
   "metadata": {},
   "outputs": [
    {
     "name": "stdout",
     "output_type": "stream",
     "text": [
      "Enter the row size=3\n",
      "Enter the column size=5\n",
      "The output of the program should be=\n",
      "[[0, 0, 0, 0, 0], [0, 1, 2, 3, 4], [0, 2, 4, 6, 8]]\n"
     ]
    }
   ],
   "source": [
    "x=int(input(\"Enter the row size=\"))\n",
    "y=int(input(\"Enter the column size=\"))\n",
    "print(\"The output of the program should be=\")\n",
    "a=[]\n",
    "for i in range (x):\n",
    "    b=[]\n",
    "    for j in range (y):\n",
    "        b.append(i*j)\n",
    "    a.append(b)\n",
    "print(a)   "
   ]
  },
  {
   "cell_type": "code",
   "execution_count": null,
   "id": "18bf2086",
   "metadata": {},
   "outputs": [],
   "source": [
    "Question 3:\n",
    "Write a program that accepts a comma separated sequence of words as input and prints the\n",
    "words in a comma-separated sequence after sorting them alphabetically.\n",
    "Suppose the following input is supplied to the program:\n",
    "without,hello,bag,world\n",
    "Then, the output should be:\n",
    "bag,hello,without,world"
   ]
  },
  {
   "cell_type": "code",
   "execution_count": 24,
   "id": "0e7b5c79",
   "metadata": {},
   "outputs": [
    {
     "name": "stdout",
     "output_type": "stream",
     "text": [
      "Enter comma seperated words without,hello,bag,world\n",
      "The output of the program should be=\n",
      "bag,hello,without,world\n"
     ]
    }
   ],
   "source": [
    "items=[x for x in input('Enter comma seperated words ').split(',')]\n",
    "items.sort()\n",
    "print(\"The output of the program should be=\")\n",
    "print(','.join(items))"
   ]
  },
  {
   "cell_type": "code",
   "execution_count": null,
   "id": "7ee0414c",
   "metadata": {},
   "outputs": [],
   "source": [
    "Question 4:\n",
    "Write a program that accepts a sequence of whitespace separated words as input and prints\n",
    "the words after removing all duplicate words and sorting them alphanumerically.\n",
    "Suppose the following input is supplied to the program:\n",
    "hello world and practice makes perfect and hello world again\n",
    "Then, the output should be:\n",
    "again and hello makes perfect practice world"
   ]
  },
  {
   "cell_type": "code",
   "execution_count": 25,
   "id": "7faba2e9",
   "metadata": {},
   "outputs": [
    {
     "name": "stdout",
     "output_type": "stream",
     "text": [
      "Enter space sepeated words A happy world is the world that a happy person wants\n",
      "A a happy is person that the wants world\n"
     ]
    }
   ],
   "source": [
    "items=[x for x in input('Enter space sepeated words ').split(' ')]\n",
    "print(' '.join(sorted(list(set(items)))))"
   ]
  },
  {
   "cell_type": "code",
   "execution_count": null,
   "id": "b781ad73",
   "metadata": {},
   "outputs": [],
   "source": [
    "Question 5:\n",
    "Write a program that accepts a sentence and calculate the number of letters and digits.\n",
    "Suppose the following input is supplied to the program:\n",
    "hello world! 123\n",
    "Then, the output should be:\n",
    "LETTERS 10\n",
    "\n",
    "DIGITS 3"
   ]
  },
  {
   "cell_type": "code",
   "execution_count": 26,
   "id": "e5560d48",
   "metadata": {},
   "outputs": [
    {
     "name": "stdout",
     "output_type": "stream",
     "text": [
      "Input a string : hello world! 123\n",
      "Letters 10\n",
      "Digits 3\n"
     ]
    }
   ],
   "source": [
    "s = input(\"Input a string : \")\n",
    "digits=letters=0\n",
    "for c in s:\n",
    "    if c.isdigit():\n",
    "        digits += 1\n",
    "    elif c.isalpha():\n",
    "        letters += 1\n",
    "    else:\n",
    "        pass\n",
    "print(\"Letters\", letters)\n",
    "print(\"Digits\", digits)"
   ]
  },
  {
   "cell_type": "code",
   "execution_count": null,
   "id": "ce077902",
   "metadata": {},
   "outputs": [],
   "source": [
    "Question 6:\n",
    "A website requires the users to input username and password to register. Write a program to\n",
    "check the validity of password input by users.\n",
    "Following are the criteria for checking the password:\n",
    "1. At least 1 letter between [a-z]\n",
    "2. At least 1 number between [0-9]\n",
    "1. At least 1 letter between [A-Z]\n",
    "3. At least 1 character from [$#@]\n",
    "4. Minimum length of transaction password: 6\n",
    "5. Maximum length of transaction password: 12\n",
    "Your program should accept a sequence of comma separated passwords and will check them\n",
    "according to the above criteria. Passwords that match the criteria are to be printed, each\n",
    "separated by a comma.\n",
    "Example\n",
    "If the following passwords are given as input to the program:\n",
    "ABd1234@1,a F1#,2w3E*,2We3345\n",
    "Then, the output of the program should be:\n",
    "ABd1234@1"
   ]
  },
  {
   "cell_type": "code",
   "execution_count": 30,
   "id": "3459cf0c",
   "metadata": {},
   "outputs": [
    {
     "name": "stdout",
     "output_type": "stream",
     "text": [
      "Enter your password : Abcd4@56\n",
      "Valid Password\n"
     ]
    }
   ],
   "source": [
    "import re\n",
    "password= input(\"Enter your password : \")\n",
    "x = True\n",
    "while x:  \n",
    "    if (len(password) < 6 or len(password) > 12):\n",
    "        break\n",
    "    elif not re.search(\"[a-z]\",password):\n",
    "        break\n",
    "    elif not re.search(\"[0-9]\",password):\n",
    "        break\n",
    "    elif not re.search(\"[A-Z]\",password):\n",
    "        break\n",
    "    elif not re.search(\"[$#@]\",password):\n",
    "        break\n",
    "    elif re.search(\"\\s\",password):\n",
    "        break\n",
    "    else:\n",
    "        print(\"Valid Password\")\n",
    "        x=False\n",
    "        break\n",
    "\n",
    "if x:\n",
    "    print(\"Not a Valid Password\")"
   ]
  }
 ],
 "metadata": {
  "kernelspec": {
   "display_name": "Python 3 (ipykernel)",
   "language": "python",
   "name": "python3"
  },
  "language_info": {
   "codemirror_mode": {
    "name": "ipython",
    "version": 3
   },
   "file_extension": ".py",
   "mimetype": "text/x-python",
   "name": "python",
   "nbconvert_exporter": "python",
   "pygments_lexer": "ipython3",
   "version": "3.9.12"
  }
 },
 "nbformat": 4,
 "nbformat_minor": 5
}
